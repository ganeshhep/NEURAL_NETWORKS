{
  "cells": [
    {
      "cell_type": "markdown",
      "source": [
        "## Imports"
      ],
      "metadata": {
        "id": "MLnlyaXmxBFO"
      },
      "id": "MLnlyaXmxBFO"
    },
    {
      "cell_type": "code",
      "execution_count": 4,
      "id": "0e60a568-3be4-417f-847a-258d271542d9",
      "metadata": {
        "id": "0e60a568-3be4-417f-847a-258d271542d9"
      },
      "outputs": [],
      "source": [
        "import torch\n",
        "import torch.nn as nn\n",
        "import torch.utils.data as data\n",
        "import torch.nn.functional as F\n",
        "from torch.nn import Linear, ReLU, BatchNorm1d, Module, Sequential\n",
        "from torch import Tensor\n",
        "\n",
        "from torch_geometric.typing import (\n",
        "    Adj,\n",
        "    OptPairTensor,\n",
        "    OptTensor,\n",
        "    Size,\n",
        "    SparseTensor,\n",
        "    torch_sparse,\n",
        ")\n",
        "\n",
        "import torch_geometric\n",
        "from torch_geometric.data import Data\n",
        "from torch_geometric.data import Batch\n",
        "import torch_geometric.transforms as T\n",
        "from torch_geometric.utils import remove_self_loops, to_dense_adj, dense_to_sparse, to_undirected\n",
        "from torch_geometric.loader import DataLoader\n",
        "from torch_geometric.nn import MessagePassing, global_mean_pool, knn_graph\n",
        "from torch_geometric.datasets import QM9\n",
        "from torch_scatter import scatter\n",
        "from torch_cluster import knn\n",
        "\n",
        "import matplotlib as mpl\n",
        "import matplotlib.pyplot as plt\n",
        "%matplotlib inline\n",
        "import matplotlib_inline\n",
        "matplotlib_inline.backend_inline.set_matplotlib_formats('svg', 'pdf', 'png')\n",
        "from matplotlib.colors import to_rgb\n",
        "import seaborn as sns\n",
        "sns.reset_orig()\n",
        "sns.set()\n",
        "import networkx as nx\n",
        "import torch_geometric\n",
        "import random\n",
        "\n",
        "import os\n",
        "os.environ['TORCH'] = torch.__version__\n",
        "\n",
        "from torch_geometric.utils.convert import to_networkx"
      ]
    },
    {
      "cell_type": "markdown",
      "source": [
        "## Tensors"
      ],
      "metadata": {
        "id": "TtoS_bgbuTKO"
      },
      "id": "TtoS_bgbuTKO"
    },
    {
      "cell_type": "code",
      "execution_count": 5,
      "id": "8822bb7d-f0a4-4960-8561-9f84fedf1bf2",
      "metadata": {
        "colab": {
          "base_uri": "https://localhost:8080/"
        },
        "id": "8822bb7d-f0a4-4960-8561-9f84fedf1bf2",
        "outputId": "75154ec5-9f74-46a3-e5a4-6686ab3c4388"
      },
      "outputs": [
        {
          "output_type": "stream",
          "name": "stdout",
          "text": [
            "tensor([[[ 7.3984e+31,  4.2038e+30,  2.4803e-43,  0.0000e+00],\n",
            "         [-4.7261e+27,  3.2779e-41, -1.4699e+01,  4.5849e-41],\n",
            "         [ 1.3250e+31,  2.8381e+23,  6.9780e+22,  1.4582e-19]],\n",
            "\n",
            "        [[ 4.5415e+24,  4.0072e-11,  1.1703e-19,  1.5637e-01],\n",
            "         [ 1.8475e+20,  7.1775e+22,  1.2011e+27,  4.7408e+16],\n",
            "         [ 7.9424e+17,  6.9841e+16,  9.9616e+17,  1.3556e-19]]]) Shape :  torch.Size([2, 3, 4]) Size :  torch.Size([2, 3, 4])\n",
            "tensor([2, 4, 8]) Shape :  torch.Size([3]) Size :  torch.Size([3])\n",
            "tensor([[ 2,  4,  6],\n",
            "        [ 8, 10, 12]]) Shape :  torch.Size([2, 3]) Size :  torch.Size([2, 3])\n",
            "tensor([[[ 1,  2,  3],\n",
            "         [ 4,  5,  6],\n",
            "         [ 7,  8,  9]],\n",
            "\n",
            "        [[10, 11, 12],\n",
            "         [13, 14, 15],\n",
            "         [16, 17, 18]]]) Shape :  torch.Size([2, 3, 3]) Size :  torch.Size([2, 3, 3])\n",
            "2\n",
            "3\n",
            "3\n",
            "2\n",
            "3\n",
            "3\n"
          ]
        }
      ],
      "source": [
        "x_ = torch.Tensor(2,3,4) #This returns a 3-dimensional tensor with 2 elements of size 3 by 4.\n",
        "y1 = torch.tensor([2, 4, 8]) #1D tensor\n",
        "y2 = torch.tensor([[2, 4, 6], [8, 10, 12]]) #2D tensor\n",
        "y3 = torch.tensor([[[1, 2, 3], [4, 5, 6], [7, 8, 9]],[[10, 11, 12], [13, 14, 15], [16, 17, 18]]]) #3D tensor\n",
        "d1, d2, d3 = y3.shape\n",
        "dim1, dim2, dim3 = y3.size()\n",
        "print(x_, \"Shape : \", x_.shape, \"Size : \", x_.size())\n",
        "print(y1, \"Shape : \", y1.shape, \"Size : \", y1.size())\n",
        "print(y2, \"Shape : \", y2.shape, \"Size : \", y2.size())\n",
        "print(y3, \"Shape : \", y3.shape, \"Size : \", y3.size())\n",
        "print(d1)\n",
        "print(d2)\n",
        "print(d3)\n",
        "print(dim1)\n",
        "print(dim2)\n",
        "print(dim3)"
      ]
    },
    {
      "cell_type": "markdown",
      "source": [
        "## Neural networks\n",
        "A neural network is basically a function with inputs and outputs. Any neural network can be defined as a function $\\bar{\\bar{y}} = f(\\bar{\\bar{x}})$ where the inputs and outputs can, in general, be a tensor.\n",
        "A linear neural network is a function involving linear transformations.   \n",
        "[Linear network layer](https://pytorch.org/docs/stable/generated/torch.nn.Linear.html#linear)"
      ],
      "metadata": {
        "id": "MVQLN7GivkNZ"
      },
      "id": "MVQLN7GivkNZ"
    },
    {
      "cell_type": "code",
      "execution_count": 6,
      "id": "8a523cbf-948d-4ca7-8cb0-7ea8ce96b789",
      "metadata": {
        "colab": {
          "base_uri": "https://localhost:8080/"
        },
        "id": "8a523cbf-948d-4ca7-8cb0-7ea8ce96b789",
        "outputId": "412f1a67-7896-4af7-e853-a4d0cee198c9"
      },
      "outputs": [
        {
          "output_type": "stream",
          "name": "stdout",
          "text": [
            "network_structure Linear(in_features=2, out_features=1, bias=True)\n",
            "network_weight Parameter containing:\n",
            "tensor([[0.5259, 0.1995]], requires_grad=True)\n",
            "network_bias Parameter containing:\n",
            "tensor([0.2029], requires_grad=True)\n",
            "tensor([2.0525], grad_fn=<ViewBackward0>)\n"
          ]
        }
      ],
      "source": [
        "f = nn.Linear(2,1) #2 inputs and 1 output\n",
        "print(\"network_structure\", f)\n",
        "print(\"network_weight\", f.weight) #automatically setted weight value each time\n",
        "print(\"network_bias\", f.bias) #automatically setted bias value each time\n",
        "x = torch.Tensor([2,4])\n",
        "y = f.forward(x) #y = f(x), evaluation using forward() function\n",
        "print(y)"
      ]
    },
    {
      "cell_type": "markdown",
      "source": [
        "## Class\n",
        "Python is an object oriented programming language. Almost everything in Python is an object, with its properties (parameters) and methods. A class is like an object constructor, or a \"blueprint\" for creating objects.\n",
        "## Creating a class\n",
        "To create a class, use the keyword class.\n"
      ],
      "metadata": {
        "id": "hOY10sarz5bN"
      },
      "id": "hOY10sarz5bN"
    },
    {
      "cell_type": "code",
      "source": [
        "class object_constructor :\n",
        "  x = 5\n",
        "  y = 10 #x and y are the properties (parameters) of the object \"object_constructor\".\n",
        "\n",
        "class_1 = object_constructor() #object is created.\n",
        "print(class_1.x) #accessing properties.\n",
        "print(class_1.y) #accessing properties."
      ],
      "metadata": {
        "colab": {
          "base_uri": "https://localhost:8080/"
        },
        "id": "JsSYjkRE14eo",
        "outputId": "a2bcb961-e50f-4a4b-cebb-27fcdc7a6359"
      },
      "id": "JsSYjkRE14eo",
      "execution_count": null,
      "outputs": [
        {
          "output_type": "stream",
          "name": "stdout",
          "text": [
            "5\n",
            "10\n"
          ]
        }
      ]
    },
    {
      "cell_type": "markdown",
      "source": [
        "## \\__init__\\() function\n",
        "The examples above are classes and objects in their simplest form, and are not really useful in real life applications. All classes have a function called \\__init__\\(), which is always executed when the class is being initiated.The \\__init__\\() method allows us to initialize the attributes (variables) of an object."
      ],
      "metadata": {
        "id": "gzrwVv0N5l6d"
      },
      "id": "gzrwVv0N5l6d"
    },
    {
      "cell_type": "code",
      "source": [
        "class biodata :\n",
        "  def __init__(self, name, age):\n",
        "    self.name = name\n",
        "    self.age = age\n",
        "\n",
        "p1 = biodata(\"Jerry\", 23)\n",
        "print(p1.name)\n",
        "print(p1.age)"
      ],
      "metadata": {
        "colab": {
          "base_uri": "https://localhost:8080/"
        },
        "id": "Yv5OY5ai64YY",
        "outputId": "2cddff53-40ac-45fb-befe-e95153998183"
      },
      "id": "Yv5OY5ai64YY",
      "execution_count": null,
      "outputs": [
        {
          "output_type": "stream",
          "name": "stdout",
          "text": [
            "Jerry\n",
            "23\n"
          ]
        }
      ]
    },
    {
      "cell_type": "markdown",
      "source": [
        "## Inheritance\n",
        "Inheritance allows us to define a class that inherits all the methods and properties from another class. Parent class is the class being inherited from, also called base class. Child class is the class that inherits from another class, also called derived class."
      ],
      "metadata": {
        "id": "QLwcmK52794b"
      },
      "id": "QLwcmK52794b"
    },
    {
      "cell_type": "markdown",
      "source": [
        "## super() function\n",
        "Function used to give access to the methods of a parent class. Returns a temporary object of a parent class when used."
      ],
      "metadata": {
        "id": "kzbWENE7RSjf"
      },
      "id": "kzbWENE7RSjf"
    },
    {
      "cell_type": "code",
      "source": [
        "class old_id :\n",
        "  def __init__(self, name, programme, roll_number, department) :\n",
        "    self.name = name\n",
        "    self.roll_number = roll_number\n",
        "    self.programme = programme\n",
        "    self.department = department\n",
        "\n",
        "  def info(self) :\n",
        "    print(self.name, str(self.roll_number), self.programme, self.department)\n",
        "\n",
        "ganesh_id = old_id(\"Ganesh Hasda\", \"BT\", 190329, \"Aerospace_engineering\")\n",
        "ganesh_id.info()\n",
        "\n",
        "class new_id(old_id) :\n",
        "  def __init__(self, name, programme, roll_number, department, new_department) :\n",
        "    super().__init__(name, programme, roll_number, department)\n",
        "    self.new_department = new_department\n",
        "\n",
        "ganesh_19816329 = new_id(\"Ganesh Hasda\", \"BT-MS\", 19816329, \"Physics\", \"Physics\")\n",
        "ganesh_19816329.info()"
      ],
      "metadata": {
        "colab": {
          "base_uri": "https://localhost:8080/"
        },
        "id": "Te_5Ot1s8Mm5",
        "outputId": "9e7daf3a-5179-415e-fcaa-d3296f058f4f"
      },
      "id": "Te_5Ot1s8Mm5",
      "execution_count": null,
      "outputs": [
        {
          "output_type": "stream",
          "name": "stdout",
          "text": [
            "Ganesh Hasda 190329 BT Aerospace_engineering\n",
            "Ganesh Hasda 19816329 BT-MS Physics\n"
          ]
        }
      ]
    },
    {
      "cell_type": "markdown",
      "source": [
        "## Message passing neural network (MPNN)"
      ],
      "metadata": {
        "id": "ipfPe2xIvxfe"
      },
      "id": "ipfPe2xIvxfe"
    },
    {
      "cell_type": "code",
      "execution_count": null,
      "id": "be3b58af-c763-4f8f-84eb-d6bfb4004f92",
      "metadata": {
        "id": "be3b58af-c763-4f8f-84eb-d6bfb4004f92",
        "outputId": "de3c37a2-7602-46bd-b47f-357d9c10aab4",
        "colab": {
          "base_uri": "https://localhost:8080/"
        }
      },
      "outputs": [
        {
          "output_type": "stream",
          "name": "stdout",
          "text": [
            "initial_value :  tensor([1., 2., 3., 4.])\n",
            "tensor([1., 2., 3., 4., 2., 4., 6., 8., 3., 6., 9.])\n",
            "tensor([ 2.4753, -2.7340, -1.1100, -4.2329], grad_fn=<ViewBackward0>)\n",
            "tensor([ 1.,  2.,  3.,  4.,  3.,  5.,  7.,  9.,  4.,  7., 10.])\n",
            "tensor([ 2.3132, -1.2655, -1.4807,  9.6297], grad_fn=<ViewBackward0>)\n",
            "tensor([ 1.,  2.,  3.,  4.,  4.,  6.,  8., 10.,  5.,  8., 11.])\n",
            "tensor([-1.8609, -4.0733,  0.3668, -2.6302], grad_fn=<ViewBackward0>)\n",
            "tensor([ 2.9277, -8.0728, -2.2239,  2.7666], grad_fn=<AddBackward0>)\n",
            "tensor([ 1.0000,  2.0000,  3.0000,  4.0000,  2.9277, -8.0728, -2.2239,  2.7666],\n",
            "       grad_fn=<CatBackward0>)\n",
            "tensor([-0.9136,  1.0289, -0.1095,  1.0378], grad_fn=<ViewBackward0>)\n",
            "new_value :  tensor([-0.9136,  1.0289, -0.1095,  1.0378], grad_fn=<ViewBackward0>)\n"
          ]
        }
      ],
      "source": [
        "f_1 = nn.Linear(11, 4)\n",
        "f_2 = nn.Linear(11, 4)\n",
        "f_3 = nn.Linear(11, 4)\n",
        "h_0 = torch.tensor([1, 2, 3, 4], dtype = torch.float32)\n",
        "print(\"initial_value : \", h_0)\n",
        "h_1 = torch.tensor([2, 4, 6, 8], dtype = torch.float32)\n",
        "e_01 = torch.tensor([3, 6, 9], dtype = torch.float32)\n",
        "input_1 = torch.cat((h_0, h_1, e_01), -1)\n",
        "print(input_1)\n",
        "new_e_01 = f_1.forward(input_1)\n",
        "print(new_e_01)\n",
        "\n",
        "h_2 = torch.tensor([3, 5, 7, 9], dtype = torch.float32)\n",
        "e_02 = torch.tensor([4, 7, 10], dtype = torch.float32)\n",
        "input_2 = torch.cat((h_0, h_2, e_02), -1)\n",
        "print(input_2)\n",
        "new_e_02 = f_2.forward(input_2)\n",
        "print(new_e_02)\n",
        "\n",
        "h_3 = torch.tensor([4, 6, 8, 10], dtype = torch.float32)\n",
        "e_03 = torch.tensor([5, 8, 11], dtype = torch.float32)\n",
        "input_3 = torch.cat((h_0, h_3, e_03), -1)\n",
        "print(input_3)\n",
        "new_e_03 = f_3.forward(input_3)\n",
        "print(new_e_03)\n",
        "\n",
        "e = new_e_01 + new_e_02 + new_e_03 #aggregation as sum\n",
        "print(e)\n",
        "\n",
        "#Updating the h_0 value\n",
        "f_new = nn.Linear(8, 4)\n",
        "inp_4 = torch.cat((h_0, e), -1)\n",
        "print(inp_4)\n",
        "h_updtd = f_new.forward(inp_4)\n",
        "print(h_updtd)\n",
        "h_0 = h_updtd\n",
        "print(\"new_value : \", h_0)"
      ]
    },
    {
      "cell_type": "markdown",
      "source": [
        "## MPNN Layer\n",
        "A class inherited from the parent class 'MessagePassing' is created. This class has two neural networks for creating messages and updating the node features at the nodes. It has the following parameters and inputs :   \n",
        "1. $d$ : node feature dimension\n",
        "1. $d_e$ : edge feature dimension\n",
        "1. $H$ : node features matrix, $H_{n \\times d}$, $n$ is the total number of nodes\n",
        "1. $E$ : edge features matrix, $E_{e \\times d_e}$, $e$ is the total number of directed edges\n",
        "1. $E_{in}$ : edge index matrix, $(E_{in})_{2 \\times e}$, a matrix description of edge connections\n",
        "1. $H'$ : updated node features matrix, $H'_{n \\times d}$, $n$ is the total number of nodes"
      ],
      "metadata": {
        "id": "LzcwlyYOyxRv"
      },
      "id": "LzcwlyYOyxRv"
    },
    {
      "cell_type": "code",
      "execution_count": 7,
      "id": "52821093-632f-41b8-93ab-f40bd1e7c11c",
      "metadata": {
        "id": "52821093-632f-41b8-93ab-f40bd1e7c11c"
      },
      "outputs": [],
      "source": [
        "class MPNN(MessagePassing) :\n",
        "  def __init__(self, hid_dim, edge_dim, aggr = \"add\") :\n",
        "    super().__init__(aggr = aggr)\n",
        "    self.hid_dim = hid_dim\n",
        "    self.edge_dim = edge_dim\n",
        "    self.psi = nn.Linear(2*hid_dim + edge_dim, hid_dim)\n",
        "    self.phi = nn.Linear(2*hid_dim, hid_dim)\n",
        "\n",
        "  #The forward() function must comprise of whole message passing process i.e creating messages, aggregation and finally updation.\n",
        "  #It updates the feature vector at the i-th node after one round of message passing.\n",
        "  #The MessagePassing parent class has the propagate() function for doing the whole message passing process using the functions, message(), aggregate() and update()\n",
        "\n",
        "  def forward(self, h, edge_index, edge_attr) :\n",
        "    #The arguments are initial node feature vector h, edge feature vectors (edge_attr) and edge index giving informations of source node and destination node.\n",
        "    #The output is the updated feature vector of each node.\n",
        "    #The propagate() function internally calls the functions message(), aggregate() and update().\n",
        "    new_h = self.propagate(edge_index, h = h, edge_attr = edge_attr)\n",
        "    return new_h\n",
        "\n",
        "  def message(self, h_i, h_j, edge_attr) :\n",
        "    m_ij = torch.cat((h_i, h_j, edge_attr), -1) #joining tensors\n",
        "    return self.psi(m_ij)\n",
        "\n",
        "  def aggregate(self, inputs, index) :\n",
        "    return scatter(inputs, index, dim=self.node_dim, reduce=self.aggr)\n",
        "\n",
        "  def update(self, aggr_out, h) :\n",
        "    upd_out = torch.cat((aggr_out, h), -1)\n",
        "    return self.phi(upd_out)"
      ]
    },
    {
      "cell_type": "markdown",
      "source": [
        "## Visualizing graphs"
      ],
      "metadata": {
        "id": "TOax6vbfs43w"
      },
      "id": "TOax6vbfs43w"
    },
    {
      "cell_type": "code",
      "source": [
        "def visualize_graph(G, color='blue'):\n",
        "\n",
        "    G = to_networkx(G)\n",
        "    plt.figure(figsize=(8,5))\n",
        "    plt.xticks([])\n",
        "    plt.yticks([])\n",
        "\n",
        "    #fig, ax = plt.subplots(nrows=1, ncols=2)\n",
        "    plt.subplot(2, 2, 1)\n",
        "    nx.draw_networkx(G, pos=nx.spring_layout(G, seed=42), with_labels=True,\n",
        "                     node_color=color, cmap=\"Set2\")\n",
        "    plt.show()"
      ],
      "metadata": {
        "id": "NDKH-eDfs8Ct"
      },
      "id": "NDKH-eDfs8Ct",
      "execution_count": null,
      "outputs": []
    },
    {
      "cell_type": "code",
      "source": [
        "edge_index_1 = torch.tensor([[0, 1, 1, 2], [1, 0, 2, 3]], dtype=torch.long)\n",
        "x_1 = torch.tensor([[-1], [0], [1], [2]], dtype=torch.float) #data at nodes.\n",
        "data_1 = Data(edge_index=edge_index_1) #ignoring data at nodes.\n",
        "visualize_graph(data_1)"
      ],
      "metadata": {
        "colab": {
          "base_uri": "https://localhost:8080/",
          "height": 333
        },
        "id": "7AiQ-w5jtUwv",
        "outputId": "1d6e4cb5-7530-46f7-abbf-d4257dbde6f9"
      },
      "id": "7AiQ-w5jtUwv",
      "execution_count": null,
      "outputs": [
        {
          "output_type": "stream",
          "name": "stderr",
          "text": [
            "/usr/local/lib/python3.10/dist-packages/torch_geometric/data/storage.py:327: UserWarning: Unable to accurately infer 'num_nodes' from the attribute set '{'edge_index'}'. Please explicitly set 'num_nodes' as an attribute of 'data' to suppress this warning\n",
            "  warnings.warn(\n",
            "<ipython-input-14-41b20dfd79fe>:9: MatplotlibDeprecationWarning: Auto-removal of overlapping axes is deprecated since 3.6 and will be removed two minor releases later; explicitly call ax.remove() as needed.\n",
            "  plt.subplot(2, 2, 1)\n",
            "/usr/local/lib/python3.10/dist-packages/networkx/drawing/nx_pylab.py:437: UserWarning: No data for colormapping provided via 'c'. Parameters 'cmap' will be ignored\n",
            "  node_collection = ax.scatter(\n"
          ]
        },
        {
          "output_type": "display_data",
          "data": {
            "text/plain": [
              "<Figure size 800x500 with 1 Axes>"
            ],
            "image/svg+xml": "<?xml version=\"1.0\" encoding=\"utf-8\" standalone=\"no\"?>\n<!DOCTYPE svg PUBLIC \"-//W3C//DTD SVG 1.1//EN\"\n  \"http://www.w3.org/Graphics/SVG/1.1/DTD/svg11.dtd\">\n<svg xmlns:xlink=\"http://www.w3.org/1999/xlink\" width=\"217.309091pt\" height=\"140.4pt\" viewBox=\"0 0 217.309091 140.4\" xmlns=\"http://www.w3.org/2000/svg\" version=\"1.1\">\n <metadata>\n  <rdf:RDF xmlns:dc=\"http://purl.org/dc/elements/1.1/\" xmlns:cc=\"http://creativecommons.org/ns#\" xmlns:rdf=\"http://www.w3.org/1999/02/22-rdf-syntax-ns#\">\n   <cc:Work>\n    <dc:type rdf:resource=\"http://purl.org/dc/dcmitype/StillImage\"/>\n    <dc:date>2024-01-20T17:07:43.226142</dc:date>\n    <dc:format>image/svg+xml</dc:format>\n    <dc:creator>\n     <cc:Agent>\n      <dc:title>Matplotlib v3.7.1, https://matplotlib.org/</dc:title>\n     </cc:Agent>\n    </dc:creator>\n   </cc:Work>\n  </rdf:RDF>\n </metadata>\n <defs>\n  <style type=\"text/css\">*{stroke-linejoin: round; stroke-linecap: butt}</style>\n </defs>\n <g id=\"figure_1\">\n  <g id=\"patch_1\">\n   <path d=\"M 0 140.4 \nL 217.309091 140.4 \nL 217.309091 0 \nL 0 0 \nz\n\" style=\"fill: #ffffff\"/>\n  </g>\n  <g id=\"axes_1\">\n   <g id=\"patch_2\">\n    <path d=\"M 7.2 133.2 \nL 210.109091 133.2 \nL 210.109091 7.2 \nL 7.2 7.2 \nz\n\" style=\"fill: #eaeaf2\"/>\n   </g>\n   <g id=\"matplotlib.axis_1\">\n    <g id=\"xtick_1\">\n     <g id=\"line2d_1\">\n      <path d=\"M 44.975167 133.2 \nL 44.975167 7.2 \n\" clip-path=\"url(#pf7475e7d7c)\" style=\"fill: none; stroke: #ffffff; stroke-linecap: round\"/>\n     </g>\n    </g>\n    <g id=\"xtick_2\">\n     <g id=\"line2d_2\">\n      <path d=\"M 89.06325 133.2 \nL 89.06325 7.2 \n\" clip-path=\"url(#pf7475e7d7c)\" style=\"fill: none; stroke: #ffffff; stroke-linecap: round\"/>\n     </g>\n    </g>\n    <g id=\"xtick_3\">\n     <g id=\"line2d_3\">\n      <path d=\"M 133.151333 133.2 \nL 133.151333 7.2 \n\" clip-path=\"url(#pf7475e7d7c)\" style=\"fill: none; stroke: #ffffff; stroke-linecap: round\"/>\n     </g>\n    </g>\n    <g id=\"xtick_4\">\n     <g id=\"line2d_4\">\n      <path d=\"M 177.239416 133.2 \nL 177.239416 7.2 \n\" clip-path=\"url(#pf7475e7d7c)\" style=\"fill: none; stroke: #ffffff; stroke-linecap: round\"/>\n     </g>\n    </g>\n   </g>\n   <g id=\"matplotlib.axis_2\">\n    <g id=\"ytick_1\">\n     <g id=\"line2d_5\">\n      <path d=\"M 7.2 129.737285 \nL 210.109091 129.737285 \n\" clip-path=\"url(#pf7475e7d7c)\" style=\"fill: none; stroke: #ffffff; stroke-linecap: round\"/>\n     </g>\n    </g>\n    <g id=\"ytick_2\">\n     <g id=\"line2d_6\">\n      <path d=\"M 7.2 101.836435 \nL 210.109091 101.836435 \n\" clip-path=\"url(#pf7475e7d7c)\" style=\"fill: none; stroke: #ffffff; stroke-linecap: round\"/>\n     </g>\n    </g>\n    <g id=\"ytick_3\">\n     <g id=\"line2d_7\">\n      <path d=\"M 7.2 73.935585 \nL 210.109091 73.935585 \n\" clip-path=\"url(#pf7475e7d7c)\" style=\"fill: none; stroke: #ffffff; stroke-linecap: round\"/>\n     </g>\n    </g>\n    <g id=\"ytick_4\">\n     <g id=\"line2d_8\">\n      <path d=\"M 7.2 46.034734 \nL 210.109091 46.034734 \n\" clip-path=\"url(#pf7475e7d7c)\" style=\"fill: none; stroke: #ffffff; stroke-linecap: round\"/>\n     </g>\n    </g>\n    <g id=\"ytick_5\">\n     <g id=\"line2d_9\">\n      <path d=\"M 7.2 18.133884 \nL 210.109091 18.133884 \n\" clip-path=\"url(#pf7475e7d7c)\" style=\"fill: none; stroke: #ffffff; stroke-linecap: round\"/>\n     </g>\n    </g>\n   </g>\n   <g id=\"patch_3\">\n    <path d=\"M 184.257155 119.611149 \nQ 149.138107 108.301285 115.083268 97.334142 \n\" clip-path=\"url(#pf7475e7d7c)\" style=\"fill: none; stroke: #1a1a1a; stroke-linecap: round\"/>\n    <path d=\"M 118.27762 100.464017 \nL 115.083268 97.334142 \nL 119.503779 96.656586 \nz\n\" clip-path=\"url(#pf7475e7d7c)\" style=\"fill: #1a1a1a; stroke: #1a1a1a; stroke-linecap: round\"/>\n   </g>\n   <g id=\"patch_4\">\n    <path d=\"M 114.021994 96.992366 \nQ 149.141042 108.30223 183.195881 119.269372 \n\" clip-path=\"url(#pf7475e7d7c)\" style=\"fill: none; stroke: #1a1a1a; stroke-linecap: round\"/>\n    <path d=\"M 180.001529 116.139498 \nL 183.195881 119.269372 \nL 178.77537 119.946929 \nz\n\" clip-path=\"url(#pf7475e7d7c)\" style=\"fill: #1a1a1a; stroke: #1a1a1a; stroke-linecap: round\"/>\n   </g>\n   <g id=\"patch_5\">\n    <path d=\"M 97.769328 91.04057 \nQ 65.29424 77.671744 33.85301 64.728521 \n\" clip-path=\"url(#pf7475e7d7c)\" style=\"fill: none; stroke: #1a1a1a; stroke-linecap: round\"/>\n    <path d=\"M 36.790513 68.100623 \nL 33.85301 64.728521 \nL 38.313194 64.40178 \nz\n\" clip-path=\"url(#pf7475e7d7c)\" style=\"fill: #1a1a1a; stroke: #1a1a1a; stroke-linecap: round\"/>\n   </g>\n   <g id=\"patch_6\">\n    <path d=\"M 26.465277 52.50347 \nQ 28.986651 39.570823 31.294079 27.735548 \n\" clip-path=\"url(#pf7475e7d7c)\" style=\"fill: none; stroke: #1a1a1a; stroke-linecap: round\"/>\n    <path d=\"M 28.565603 31.27891 \nL 31.294079 27.735548 \nL 32.491683 32.044347 \nz\n\" clip-path=\"url(#pf7475e7d7c)\" style=\"fill: #1a1a1a; stroke: #1a1a1a; stroke-linecap: round\"/>\n   </g>\n   <g id=\"PathCollection_1\">\n    <defs>\n     <path id=\"mbd8808ab75\" d=\"M 0 8.660254 \nC 2.296726 8.660254 4.499694 7.747755 6.123724 6.123724 \nC 7.747755 4.499694 8.660254 2.296726 8.660254 0 \nC 8.660254 -2.296726 7.747755 -4.499694 6.123724 -6.123724 \nC 4.499694 -7.747755 2.296726 -8.660254 0 -8.660254 \nC -2.296726 -8.660254 -4.499694 -7.747755 -6.123724 -6.123724 \nC -7.747755 -4.499694 -8.660254 -2.296726 -8.660254 0 \nC -8.660254 2.296726 -7.747755 4.499694 -6.123724 6.123724 \nC -4.499694 7.747755 -2.296726 8.660254 0 8.660254 \nz\n\" style=\"stroke: #0000ff\"/>\n    </defs>\n    <g clip-path=\"url(#pf7475e7d7c)\">\n     <use xlink:href=\"#mbd8808ab75\" x=\"192.501277\" y=\"122.266116\" style=\"fill: #0000ff; stroke: #0000ff\"/>\n     <use xlink:href=\"#mbd8808ab75\" x=\"105.777872\" y=\"94.337399\" style=\"fill: #0000ff; stroke: #0000ff\"/>\n     <use xlink:href=\"#mbd8808ab75\" x=\"24.807814\" y=\"61.004939\" style=\"fill: #0000ff; stroke: #0000ff\"/>\n     <use xlink:href=\"#mbd8808ab75\" x=\"33.166038\" y=\"18.133884\" style=\"fill: #0000ff; stroke: #0000ff\"/>\n    </g>\n   </g>\n   <g id=\"patch_7\">\n    <path d=\"M 7.2 133.2 \nL 7.2 7.2 \n\" style=\"fill: none; stroke: #ffffff; stroke-width: 1.25; stroke-linejoin: miter; stroke-linecap: square\"/>\n   </g>\n   <g id=\"patch_8\">\n    <path d=\"M 210.109091 133.2 \nL 210.109091 7.2 \n\" style=\"fill: none; stroke: #ffffff; stroke-width: 1.25; stroke-linejoin: miter; stroke-linecap: square\"/>\n   </g>\n   <g id=\"patch_9\">\n    <path d=\"M 7.2 133.2 \nL 210.109091 133.2 \n\" style=\"fill: none; stroke: #ffffff; stroke-width: 1.25; stroke-linejoin: miter; stroke-linecap: square\"/>\n   </g>\n   <g id=\"patch_10\">\n    <path d=\"M 7.2 7.2 \nL 210.109091 7.2 \n\" style=\"fill: none; stroke: #ffffff; stroke-width: 1.25; stroke-linejoin: miter; stroke-linecap: square\"/>\n   </g>\n   <g id=\"text_1\">\n    <g clip-path=\"url(#pf7475e7d7c)\">\n     <!-- 0 -->\n     <g style=\"fill: #1a1a1a\" transform=\"translate(188.683777 125.577366) scale(0.12 -0.12)\">\n      <defs>\n       <path id=\"DejaVuSans-30\" d=\"M 2034 4250 \nQ 1547 4250 1301 3770 \nQ 1056 3291 1056 2328 \nQ 1056 1369 1301 889 \nQ 1547 409 2034 409 \nQ 2525 409 2770 889 \nQ 3016 1369 3016 2328 \nQ 3016 3291 2770 3770 \nQ 2525 4250 2034 4250 \nz\nM 2034 4750 \nQ 2819 4750 3233 4129 \nQ 3647 3509 3647 2328 \nQ 3647 1150 3233 529 \nQ 2819 -91 2034 -91 \nQ 1250 -91 836 529 \nQ 422 1150 422 2328 \nQ 422 3509 836 4129 \nQ 1250 4750 2034 4750 \nz\n\" transform=\"scale(0.015625)\"/>\n      </defs>\n      <use xlink:href=\"#DejaVuSans-30\"/>\n     </g>\n    </g>\n   </g>\n   <g id=\"text_2\">\n    <g clip-path=\"url(#pf7475e7d7c)\">\n     <!-- 1 -->\n     <g style=\"fill: #1a1a1a\" transform=\"translate(101.960372 97.648649) scale(0.12 -0.12)\">\n      <defs>\n       <path id=\"DejaVuSans-31\" d=\"M 794 531 \nL 1825 531 \nL 1825 4091 \nL 703 3866 \nL 703 4441 \nL 1819 4666 \nL 2450 4666 \nL 2450 531 \nL 3481 531 \nL 3481 0 \nL 794 0 \nL 794 531 \nz\n\" transform=\"scale(0.015625)\"/>\n      </defs>\n      <use xlink:href=\"#DejaVuSans-31\"/>\n     </g>\n    </g>\n   </g>\n   <g id=\"text_3\">\n    <g clip-path=\"url(#pf7475e7d7c)\">\n     <!-- 2 -->\n     <g style=\"fill: #1a1a1a\" transform=\"translate(20.990314 64.316189) scale(0.12 -0.12)\">\n      <defs>\n       <path id=\"DejaVuSans-32\" d=\"M 1228 531 \nL 3431 531 \nL 3431 0 \nL 469 0 \nL 469 531 \nQ 828 903 1448 1529 \nQ 2069 2156 2228 2338 \nQ 2531 2678 2651 2914 \nQ 2772 3150 2772 3378 \nQ 2772 3750 2511 3984 \nQ 2250 4219 1831 4219 \nQ 1534 4219 1204 4116 \nQ 875 4013 500 3803 \nL 500 4441 \nQ 881 4594 1212 4672 \nQ 1544 4750 1819 4750 \nQ 2544 4750 2975 4387 \nQ 3406 4025 3406 3419 \nQ 3406 3131 3298 2873 \nQ 3191 2616 2906 2266 \nQ 2828 2175 2409 1742 \nQ 1991 1309 1228 531 \nz\n\" transform=\"scale(0.015625)\"/>\n      </defs>\n      <use xlink:href=\"#DejaVuSans-32\"/>\n     </g>\n    </g>\n   </g>\n   <g id=\"text_4\">\n    <g clip-path=\"url(#pf7475e7d7c)\">\n     <!-- 3 -->\n     <g style=\"fill: #1a1a1a\" transform=\"translate(29.348538 21.445134) scale(0.12 -0.12)\">\n      <defs>\n       <path id=\"DejaVuSans-33\" d=\"M 2597 2516 \nQ 3050 2419 3304 2112 \nQ 3559 1806 3559 1356 \nQ 3559 666 3084 287 \nQ 2609 -91 1734 -91 \nQ 1441 -91 1130 -33 \nQ 819 25 488 141 \nL 488 750 \nQ 750 597 1062 519 \nQ 1375 441 1716 441 \nQ 2309 441 2620 675 \nQ 2931 909 2931 1356 \nQ 2931 1769 2642 2001 \nQ 2353 2234 1838 2234 \nL 1294 2234 \nL 1294 2753 \nL 1863 2753 \nQ 2328 2753 2575 2939 \nQ 2822 3125 2822 3475 \nQ 2822 3834 2567 4026 \nQ 2313 4219 1838 4219 \nQ 1578 4219 1281 4162 \nQ 984 4106 628 3988 \nL 628 4550 \nQ 988 4650 1302 4700 \nQ 1616 4750 1894 4750 \nQ 2613 4750 3031 4423 \nQ 3450 4097 3450 3541 \nQ 3450 3153 3228 2886 \nQ 3006 2619 2597 2516 \nz\n\" transform=\"scale(0.015625)\"/>\n      </defs>\n      <use xlink:href=\"#DejaVuSans-33\"/>\n     </g>\n    </g>\n   </g>\n  </g>\n </g>\n <defs>\n  <clipPath id=\"pf7475e7d7c\">\n   <rect x=\"7.2\" y=\"7.2\" width=\"202.909091\" height=\"126\"/>\n  </clipPath>\n </defs>\n</svg>\n",
            "image/png": "[encoded data removed]",
            "application/pdf": "[encoded data removed]"
          },
          "metadata": {}
        }
      ]
    },
    {
      "cell_type": "code",
      "source": [
        "msg_net = MPNN(5, 3)\n",
        "H = torch.tensor([[1, 2, 3, 4, 5], [5, 6, 7, 8, 9], [9, 10, 11, 12, 13], [13, 14, 15, 16, 17]], dtype = torch.float32)\n",
        "print(\"The node feature matrix is\", H)\n",
        "E_in = torch.tensor([[0, 1, 1, 2], [1, 0, 2, 3]])\n",
        "E = torch.tensor([[3, 6, 9], [12, 15, 18], [21, 24, 27], [30, 33, 36]], dtype = torch.float32)\n",
        "y = msg_net(H, E_in, E)\n",
        "print(\"The updated node feature matrix is\", y)"
      ],
      "metadata": {
        "colab": {
          "base_uri": "https://localhost:8080/"
        },
        "id": "qi3uD6F99JRI",
        "outputId": "c367bb17-92a7-4244-b2ab-03ffcfe95d21"
      },
      "id": "qi3uD6F99JRI",
      "execution_count": 9,
      "outputs": [
        {
          "output_type": "stream",
          "name": "stdout",
          "text": [
            "The node feature matrix is tensor([[ 1.,  2.,  3.,  4.,  5.],\n",
            "        [ 5.,  6.,  7.,  8.,  9.],\n",
            "        [ 9., 10., 11., 12., 13.],\n",
            "        [13., 14., 15., 16., 17.]])\n",
            "The updated node feature matrix is tensor([[-2.4388,  1.1194,  0.2999, -0.1774, -1.2601],\n",
            "        [-1.1005,  2.1195,  0.7723, -0.2922,  1.2422],\n",
            "        [-2.7432,  4.3755,  0.8628, -1.5213,  0.3077],\n",
            "        [-3.8338,  6.3175,  1.0444, -2.2886,  0.1364]],\n",
            "       grad_fn=<AddmmBackward0>)\n"
          ]
        }
      ]
    },
    {
      "cell_type": "code",
      "source": [],
      "metadata": {
        "id": "kLmGfCBUJ4ZY"
      },
      "id": "kLmGfCBUJ4ZY",
      "execution_count": null,
      "outputs": []
    }
  ],
  "metadata": {
    "kernelspec": {
      "display_name": "Python 3 (ipykernel)",
      "language": "python",
      "name": "python3"
    },
    "language_info": {
      "codemirror_mode": {
        "name": "ipython",
        "version": 3
      },
      "file_extension": ".py",
      "mimetype": "text/x-python",
      "name": "python",
      "nbconvert_exporter": "python",
      "pygments_lexer": "ipython3",
      "version": "3.11.5"
    },
    "colab": {
      "provenance": []
    }
  },
  "nbformat": 4,
  "nbformat_minor": 5
}
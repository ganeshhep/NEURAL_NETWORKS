{
  "nbformat": 4,
  "nbformat_minor": 0,
  "metadata": {
    "colab": {
      "provenance": []
    },
    "kernelspec": {
      "name": "python3",
      "display_name": "Python 3"
    },
    "language_info": {
      "name": "python"
    }
  },
  "cells": [
    {
      "cell_type": "markdown",
      "source": [
        "## Imports"
      ],
      "metadata": {
        "id": "fLd6KnI4qTmV"
      }
    },
    {
      "cell_type": "code",
      "source": [
        "from numpy import array\n",
        "from math import atan\n",
        "from fastjet import PseudoJet, JetDefinition, ClusterSequence, antikt_algorithm\n",
        "import awkward as ak\n",
        "import vector\n",
        "import uproot\n",
        "vector.register_awkward()"
      ],
      "metadata": {
        "id": "_RHc6mDvqNgr"
      },
      "execution_count": 74,
      "outputs": []
    },
    {
      "cell_type": "code",
      "execution_count": 47,
      "metadata": {
        "colab": {
          "base_uri": "https://localhost:8080/"
        },
        "id": "R_wlw45SnSbA",
        "outputId": "fdc46df0-0b26-491d-b5cd-2d747c5f2f3f"
      },
      "outputs": [
        {
          "output_type": "stream",
          "name": "stdout",
          "text": [
            "Requirement already satisfied: fastjet in /usr/local/lib/python3.10/dist-packages (3.4.1.3)\n",
            "Requirement already satisfied: awkward>=2 in /usr/local/lib/python3.10/dist-packages (from fastjet) (2.6.2)\n",
            "Requirement already satisfied: numpy>=1.13.3 in /usr/local/lib/python3.10/dist-packages (from fastjet) (1.25.2)\n",
            "Requirement already satisfied: vector in /usr/local/lib/python3.10/dist-packages (from fastjet) (1.3.0)\n",
            "Requirement already satisfied: awkward-cpp==30 in /usr/local/lib/python3.10/dist-packages (from awkward>=2->fastjet) (30)\n",
            "Requirement already satisfied: fsspec>=2022.11.0 in /usr/local/lib/python3.10/dist-packages (from awkward>=2->fastjet) (2023.6.0)\n",
            "Requirement already satisfied: importlib-metadata>=4.13.0 in /usr/local/lib/python3.10/dist-packages (from awkward>=2->fastjet) (7.0.1)\n",
            "Requirement already satisfied: packaging in /usr/local/lib/python3.10/dist-packages (from awkward>=2->fastjet) (23.2)\n",
            "Requirement already satisfied: typing-extensions>=4.1.0 in /usr/local/lib/python3.10/dist-packages (from awkward>=2->fastjet) (4.10.0)\n",
            "Requirement already satisfied: zipp>=0.5 in /usr/local/lib/python3.10/dist-packages (from importlib-metadata>=4.13.0->awkward>=2->fastjet) (3.17.0)\n",
            "Requirement already satisfied: vector in /usr/local/lib/python3.10/dist-packages (1.3.0)\n",
            "Requirement already satisfied: numpy>=1.13.3 in /usr/local/lib/python3.10/dist-packages (from vector) (1.25.2)\n",
            "Requirement already satisfied: packaging>=19 in /usr/local/lib/python3.10/dist-packages (from vector) (23.2)\n",
            "Requirement already satisfied: uproot in /usr/local/lib/python3.10/dist-packages (5.3.1)\n",
            "Requirement already satisfied: awkward>=2.4.6 in /usr/local/lib/python3.10/dist-packages (from uproot) (2.6.2)\n",
            "Requirement already satisfied: cramjam>=2.5.0 in /usr/local/lib/python3.10/dist-packages (from uproot) (2.8.2)\n",
            "Requirement already satisfied: fsspec in /usr/local/lib/python3.10/dist-packages (from uproot) (2023.6.0)\n",
            "Requirement already satisfied: numpy in /usr/local/lib/python3.10/dist-packages (from uproot) (1.25.2)\n",
            "Requirement already satisfied: packaging in /usr/local/lib/python3.10/dist-packages (from uproot) (23.2)\n",
            "Requirement already satisfied: typing-extensions>=4.1.0 in /usr/local/lib/python3.10/dist-packages (from uproot) (4.10.0)\n",
            "Requirement already satisfied: awkward-cpp==30 in /usr/local/lib/python3.10/dist-packages (from awkward>=2.4.6->uproot) (30)\n",
            "Requirement already satisfied: importlib-metadata>=4.13.0 in /usr/local/lib/python3.10/dist-packages (from awkward>=2.4.6->uproot) (7.0.1)\n",
            "Requirement already satisfied: zipp>=0.5 in /usr/local/lib/python3.10/dist-packages (from importlib-metadata>=4.13.0->awkward>=2.4.6->uproot) (3.17.0)\n"
          ]
        }
      ],
      "source": [
        "!pip install fastjet\n",
        "!pip install vector\n",
        "!pip install uproot"
      ]
    },
    {
      "cell_type": "markdown",
      "source": [
        "## PseudoJet\n",
        "1. **PseudoJet** is a class in the **FastJet** library.\n",
        "2. **PseudoJet** provides a jet object with a four-momentum and some internal indices to situate it in the context of a jet-clustering sequence.\n",
        "3. **PseudoJet** is basically an object containing information of a particle or a bunch of particles, the information it contains is the four-momentum of the particles."
      ],
      "metadata": {
        "id": "NYC7XX8T2H7Y"
      }
    },
    {
      "cell_type": "code",
      "source": [
        "jet_1 = PseudoJet(1.1, 2.2, 3.5, 4.5) # Creating an object containing 4-momentum of a particle using PseudoJet() function\n",
        "print(\"Energy component :\", jet_1.E()) # This returns energy component of the 4-momentum, jet_1.e().\n",
        "print(\"Momentum x-component :\", jet_1.px()) # This returns x-component of the 3-momentum.\n",
        "print(\"Momentum y-component :\", jet_1.py()) # This returns y-component of the 3-momentum.\n",
        "print(\"Momentum z-component :\", jet_1.pz()) # This returns z-component of the 3-momentum.\n",
        "print(\"Azimuth of the particle :\", jet_1.phi()) # This returns azimuthal angle in the range 0 to 2pi.\n",
        "# Checking the result with the definition of azimuthal angle\n",
        "a = jet_1.px()\n",
        "b = jet_1.py()\n",
        "c = b/a\n",
        "print(atan(c)) # Note that this gives the same result as in previous with phi() function.\n",
        "print(\"Standard azimuth :\", jet_1.phi_std()) # This returns azimuthal angle in the range -pi to pi.\n",
        "print(\"Rapidity :\", jet_1.rap()) # This returns the rapidity, jet_1.rapidity().\n",
        "print(\"Pseudo-rapidity :\", jet_1.pseudorapidity()) # This returns the pseudo-rapidity, jet_1.eta().\n",
        "print(\"Squared transverse momentum :\", jet_1.pt2()) # This returns the squared transverse momentum, jet_1.perp2().\n",
        "print(\"Transverse momentum :\", jet_1.pt()) # This returns the transverse momentum, jet_1.perp().\n",
        "print(\"Squared invariant mass :\", jet_1.m2()) # This returns squared invariant mass.\n",
        "print(\"Invariant mass :\", jet_1.m()) # This returns invariant mass.\n",
        "print(\"Squared transverse mass :\", jet_1.mt2()) # This returns the squared transverse mass, jet_1.mperp2().\n",
        "print(\"Transverse mass :\", jet_1.mt()) # This returns the transverse mass, jet_1.mperp().\n",
        "jet_2 = PseudoJet(1.1, 2.2, 3.5, 4.5)\n",
        "jet_3 = PseudoJet(1.1, 2.2, 3.5, 0.0)\n",
        "jet_4 = PseudoJet(0, 0, 0, 0)\n",
        "# The equality testing operators\n",
        "print(jet_1 == jet_2) # This returns true if the two jets have identical 4-momenta, structural information and user information.\n",
        "print(jet_2 == jet_3)\n",
        "print(jet_4 == 0) # This returns true if all the components of the 4-momentum are zero.\n",
        "print(jet_3 != 0) # This returns true if any of the components of the 4-momentum is not zero.\n",
        "jet_1.set_user_index(2) # Setting the user_index, intended to allow the user to label the object (default is -1)\n",
        "jet_1.user_index() # This returns the user_index.\n",
        "jet_2.user_index()\n",
        "jet_1.reset(1.1, 2.2, 3.5, 4.5) # Reset the 4-momentum according to the supplied components, put the user and history indices\n",
        "# and user info back to their default values (-1, unset)\n",
        "jet_1.user_index()\n",
        "print(\"Old jet 1 :\", jet_1)\n",
        "jet_1.reset_momentum(1, 2, 3, 4) #  Reset just the 4-momentum according to the supplied components, all other information is left unchanged\n",
        "print(\"New jet 1 :\", jet_1)\n",
        "print(\"User index :\", jet_1.user_index())\n",
        "jet_sum = jet_2 + jet_3 # Addition of two PseudoJet objects\n",
        "print(\"Added jet (23) :\", jet_sum)\n",
        "jet_diff = jet_2 - jet_3 # Subtraction of two PseudoJet objects\n",
        "print(\"Jet diff. (23) :\", jet_diff)\n",
        "# The +, -, * and / operators are defined, with +, - acting on pairs of PseudoJet.\n",
        "# The analogous +=, etc., operators, are also defined."
      ],
      "metadata": {
        "colab": {
          "base_uri": "https://localhost:8080/"
        },
        "id": "AEPOXD_Gp_zX",
        "outputId": "43deaf4a-cd66-480e-8640-fec0a64edc67"
      },
      "execution_count": 82,
      "outputs": [
        {
          "output_type": "stream",
          "name": "stdout",
          "text": [
            "Energy component : 4.5\n",
            "Momentum x-component : 1.1\n",
            "Momentum y-component : 2.2\n",
            "Momentum z-component : 3.5\n",
            "Azimuth of the particle : 1.1071487177940904\n",
            "1.1071487177940904\n",
            "Standard azimuth : 1.1071487177940904\n",
            "Rapidity : 1.0397207708399179\n",
            "Pseudo-rapidity : 1.1512508050083592\n",
            "Squared transverse momentum : 6.050000000000001\n",
            "Transverse momentum : 2.459674775249769\n",
            "Squared invariant mass : 1.9499999999999993\n",
            "Invariant mass : 1.3964240043768938\n",
            "Squared transverse mass : 8.0\n",
            "Transverse mass : 2.8284271247461903\n",
            "True\n",
            "False\n",
            "True\n",
            "True\n",
            "Old jet 1 : [1.100000, 2.200000, 3.500000, 4.500000]\n",
            "New jet 1 : [1.000000, 2.000000, 3.000000, 4.000000]\n",
            "User index : -1\n",
            "Added jet (23) : [2.200000, 4.400000, 7.000000, 4.500000]\n",
            "Jet diff. (23) : [0.000000, 0.000000, 0.000000, 4.500000]\n"
          ]
        }
      ]
    },
    {
      "cell_type": "code",
      "source": [
        "# Sorting of PsudoJet objects\n",
        "particles = [PseudoJet(0.7283822313,0.1094889185 ,-0.1754670827  ,-0.6843130641),\n",
        "             PseudoJet(6.7420362761,-1.3395280577,-1.0677537402,-6.4527380155),\n",
        "             PseudoJet(0.9647588756,-0.4610425267 ,-0.0168193957 ,-0.8357253135),\n",
        "             PseudoJet(6.5019392609 ,-0.8586330562 ,-2.0252604440 ,-6.1169276419),\n",
        "             PseudoJet(0.4622264166,0.1506846470 ,-0.2812835366 ,-0.3038867955)]\n",
        "\n",
        "particles.sort(key = lambda jet:jet.pt()) # The particles are sorted based on increasing transverse momentum.\n",
        "\n",
        "print(\"Particles transverse momentum in increasing order :\")\n",
        "\n",
        "for i in range(5) :\n",
        "  print(particles[i].pt())"
      ],
      "metadata": {
        "id": "IvhEIwYbvYI4",
        "colab": {
          "base_uri": "https://localhost:8080/"
        },
        "outputId": "9572f5cb-86a9-49cd-f494-4f6c53434dea"
      },
      "execution_count": 84,
      "outputs": [
        {
          "output_type": "stream",
          "name": "stdout",
          "text": [
            "Particles transverse momentum in increasing order :\n",
            "0.48616779309657215\n",
            "0.736565338682093\n",
            "1.0692613803345263\n",
            "6.558388893442672\n",
            "6.873819066982626\n"
          ]
        }
      ]
    },
    {
      "cell_type": "markdown",
      "source": [
        "## Jet definition\n",
        "1. The class **JetDefinition** contains a specification of how jet\n",
        "clustering is to be performed.\n",
        "2. The **JetDefinition** class takes varied number of arguments, the first argument is always the type of algorithm, the number of rest of the arguments depends on how many parameters the given algorithm requires.\n",
        "3. According to the Les Houches convention, a 'jet definition' should include the jet algorithm name, its parameters (often the radius R) and the recombination scheme."
      ],
      "metadata": {
        "id": "VpkiClbzL8Kw"
      }
    },
    {
      "cell_type": "code",
      "source": [
        "jetdef = JetDefinition(antikt_algorithm, 0.6)"
      ],
      "metadata": {
        "id": "P14s5yzmElo8"
      },
      "execution_count": 86,
      "outputs": []
    },
    {
      "cell_type": "markdown",
      "source": [
        "## JetAlgorithms\n",
        "The **JetDefinition** class takes **JetAlgorithms** as arguments. In the above example we have chosen the **anti-$k_t$** algorithm. The list of algorithms is as following:\n",
        "\n",
        "\n",
        "* **kt_algorithm** : The longitudinally invariant $k_t$ algorithm with distance measures\n",
        "\n",
        "\t\\begin{align*}\n",
        "\td_{ij} &= \\min(p_{Ti}^2,p_{Tj}^2) \\frac{\\Delta R_{ij}^2}{R^2}, \\\\\n",
        "\td_{iB} &= p_{Ti}^2.\n",
        "\t\\end{align*}\n",
        "* **cambridge_algorithm** : The longitudinally invariant variant of the cambridge algorithm (aka Aachen algoithm) with distance measures\n",
        "\t\\begin{align*}\n",
        "\td_{ij} &= \\frac{\\Delta R_{ij}^2}{R^2}, \\\\\n",
        "\td_{iB} &= 1.\n",
        "\t\\end{align*}\n",
        "* **antikt_algorithm** : Like the $k_t$ but with distance measures\n",
        "\t\\begin{align*}\n",
        "\td_{ij} &= \\min(p_{Ti}^{-2},p_{Tj}^{-2}) \\frac{\\Delta R_{ij}^2}{R^2}, \\\\\n",
        "\td_{iB} &= p_{Ti}^{-2}.\n",
        "\t\\end{align*}\n",
        "* **genkt_algorithm** : The generalized $k_t$ algorithm but with distance measures\n",
        "\t\\begin{align*}\n",
        "    d_{ij} &= \\min(p_{Ti}^{2p},p_{Tj}^{2p}) \\frac{\\Delta R_{ij}^2}{R^2}, \\\\\n",
        "    d_{iB} &= p_{Ti}^{2p}\n",
        "\t\\end{align*}\n",
        "\n",
        "  where **p = extra_param()**.\\\n",
        "  Special cases are for : $p=1$ (gives the $k_t$ algorithm), $p=0$ (gives the Cambridge/Aachen algorithm), and $p=-1$ (gives the anti-$k_t$ algorithm).\n",
        "\n"
      ],
      "metadata": {
        "id": "xvdlb7TGNIlg"
      }
    },
    {
      "cell_type": "markdown",
      "source": [
        "## Recombination schemes\n",
        "1. For merging particles (i.e **PseudoJet**'s) during the clustering procedure, one must specify how to combine the momenta.\n",
        "2. The recombination scheme is set by stating **RecombinationScheme** in the **JetDefinition**, and it is related to the choice of how to recombine the 4-momenta of **PseudoJet**'s during the clustering procedure.\n",
        "3. The default in **FastJet** is the **E_scheme**, where the four components of two 4-vectors are simply added. This scheme is used when no explicit choice is made in the constructor."
      ],
      "metadata": {
        "id": "Z3HXMmFmFOok"
      }
    },
    {
      "cell_type": "markdown",
      "source": [
        "## Jet clustering\n",
        "For jet clustering, **FastJet** has a class **ClusterSequence** that carries out jet-clustering and provides access to the final jets. For clustering of particles, the class **ClusterSequence** requires the information of particles and the algorithm for clustering process. This is how jet clustering is done."
      ],
      "metadata": {
        "id": "9Q2bzB2ZH0Ax"
      }
    },
    {
      "cell_type": "code",
      "source": [
        "particles = [PseudoJet(0.7283822313, 0.1094889185, -0.1754670827, -0.6843130641),\n",
        "             PseudoJet(6.7420362761, -1.3395280577, -1.0677537402, -6.4527380155),\n",
        "             PseudoJet(0.9647588756, -0.4610425267 , -0.0168193957, -0.8357253135),\n",
        "             PseudoJet(6.5019392609, -0.8586330562, -2.0252604440, -6.1169276419),\n",
        "             PseudoJet(0.4622264166, 0.1506846470, -0.2812835366, -0.3038867955)]\n",
        "\n",
        "cluster = ClusterSequence(particles, jetdef)"
      ],
      "metadata": {
        "id": "acA2SQEGAECH"
      },
      "execution_count": 87,
      "outputs": []
    },
    {
      "cell_type": "code",
      "source": [
        "inc_jets = cluster.inclusive_jets() # Jets obtained from inclusive clustering algorithm\n",
        "\n",
        "for i in range(len(inc_jets)) :\n",
        "  print(\"px : {px}, py : {py}, pz : {pz}, E : {E}\".format(px=inc_jets[i].px(), py = inc_jets[i].py(), pz = inc_jets[i].pz(), E = inc_jets[i].E())) # This prints 4-momentum of all the jets.\n",
        ""
      ],
      "metadata": {
        "colab": {
          "base_uri": "https://localhost:8080/"
        },
        "id": "Pw6Z0-WXAG70",
        "outputId": "0ee67480-4a08-46aa-ade4-abc4fb62621e"
      },
      "execution_count": 88,
      "outputs": [
        {
          "output_type": "stream",
          "name": "stdout",
          "text": [
            "px : 0.4622264166, py : 0.150684647, pz : -0.2812835366, E : -0.3038867955\n",
            "px : 14.9371166439, py : -2.5497147221, pz : -3.2853006626, E : -14.089704034999999\n"
          ]
        }
      ]
    },
    {
      "cell_type": "code",
      "source": [
        "# Using Awkward arrays to define 4-momentum of particles\n",
        "array = ak.Array(\n",
        "    [\n",
        "        [\n",
        "            {\"px\": 0.45417, \"py\": 0.32728, \"pz\": -0.23645, \"E\": 0.15539, \"charge\": 1},\n",
        "            {\"px\": 1.89939, \"py\": -0.78538, \"pz\": -0.78105, \"E\": -1.53662, \"charge\": 1},\n",
        "            {\"px\": 3.3957985464, \"py\": 3.20144, \"pz\": -0.31280, \"E\": -0.55188, \"charge\": 1},\n",
        "        ],\n",
        "        [],\n",
        "        [\n",
        "            {\"px\": 2.95593, \"py\": -0.35361, \"pz\": 0.62956, \"E\": -2.86073, \"charge\": 1},\n",
        "            {\"px\": 4.33707, \"py\": 0.53039, \"pz\": 1.47772, \"E\": -3.93265, \"charge\": 1},\n",
        "            {\"px\": 0.32284, \"py\": 0.06157, \"pz\": 0.12261, \"E\": -0.25641, \"charge\": 1},\n",
        "            {\"px\": 0.32114, \"py\": 0.01579, \"pz\": 0.01635, \"E\": -0.32380, \"charge\": 1},\n",
        "        ],\n",
        "        [\n",
        "            {\"px\": 9.7436, \"py\": -0.0011, \"pz\": 0.238, \"E\": -9.7392, \"charge\": 1}\n",
        "        ],\n",
        "    ],\n",
        ")"
      ],
      "metadata": {
        "id": "CM52wC1mubVL"
      },
      "execution_count": 103,
      "outputs": []
    },
    {
      "cell_type": "code",
      "source": [
        "cluster = ClusterSequence(array, jetdef)\n",
        "cluster.inclusive_jets().to_list() # A vector of jets"
      ],
      "metadata": {
        "colab": {
          "base_uri": "https://localhost:8080/"
        },
        "id": "Qv8_TIYdyyvc",
        "outputId": "2e516f96-41d3-487e-ca44-fc32bfd21f6f"
      },
      "execution_count": 10,
      "outputs": [
        {
          "output_type": "execute_result",
          "data": {
            "text/plain": [
              "[[{'px': 0.45417, 'py': 0.32728, 'pz': -0.23645, 'E': 0.15539},\n",
              "  {'px': 1.89939, 'py': -0.78538, 'pz': -0.78105, 'E': -1.53662},\n",
              "  {'px': 3.3957985464, 'py': 3.20144, 'pz': -0.3128, 'E': -0.55188}],\n",
              " [],\n",
              " [{'px': 7.93698,\n",
              "   'py': 0.25414000000000003,\n",
              "   'pz': 2.2462400000000002,\n",
              "   'E': -7.373590000000001}],\n",
              " [{'px': 9.7436, 'py': -0.0011, 'pz': 0.238, 'E': -9.7392}]]"
            ]
          },
          "metadata": {},
          "execution_count": 10
        }
      ]
    },
    {
      "cell_type": "code",
      "source": [
        "output = cluster.constituents() # Constituents of each jet\n",
        "output.to_list()"
      ],
      "metadata": {
        "colab": {
          "base_uri": "https://localhost:8080/"
        },
        "id": "O5md_LvKzL-1",
        "outputId": "9673f90a-7e1b-4288-b785-6a37608083b9"
      },
      "execution_count": 11,
      "outputs": [
        {
          "output_type": "execute_result",
          "data": {
            "text/plain": [
              "[[[{'px': 0.45417, 'py': 0.32728, 'pz': -0.23645, 'E': 0.15539, 'charge': 1}],\n",
              "  [{'px': 1.89939,\n",
              "    'py': -0.78538,\n",
              "    'pz': -0.78105,\n",
              "    'E': -1.53662,\n",
              "    'charge': 1}],\n",
              "  [{'px': 3.3957985464,\n",
              "    'py': 3.20144,\n",
              "    'pz': -0.3128,\n",
              "    'E': -0.55188,\n",
              "    'charge': 1}]],\n",
              " [],\n",
              " [[{'px': 2.95593, 'py': -0.35361, 'pz': 0.62956, 'E': -2.86073, 'charge': 1},\n",
              "   {'px': 4.33707, 'py': 0.53039, 'pz': 1.47772, 'E': -3.93265, 'charge': 1},\n",
              "   {'px': 0.32284, 'py': 0.06157, 'pz': 0.12261, 'E': -0.25641, 'charge': 1},\n",
              "   {'px': 0.32114, 'py': 0.01579, 'pz': 0.01635, 'E': -0.3238, 'charge': 1}]],\n",
              " [[{'px': 9.7436, 'py': -0.0011, 'pz': 0.238, 'E': -9.7392, 'charge': 1}]]]"
            ]
          },
          "metadata": {},
          "execution_count": 11
        }
      ]
    },
    {
      "cell_type": "markdown",
      "source": [
        "Now let's do the jet clustering with more number of particles as the input data."
      ],
      "metadata": {
        "id": "fBrj9DQyqcj2"
      }
    },
    {
      "cell_type": "code",
      "source": [
        "from google.colab import drive\n",
        "drive.mount('/content/drive')\n",
        "data_file = \"/content/drive/MyDrive/JetClass_example_100k.root\"\n",
        "tree = uproot.open(data_file)[\"tree\"]"
      ],
      "metadata": {
        "colab": {
          "base_uri": "https://localhost:8080/"
        },
        "id": "wjOGnadcqdFt",
        "outputId": "8f3ff617-bd85-4d54-90e8-466113480a3c"
      },
      "execution_count": 16,
      "outputs": [
        {
          "output_type": "stream",
          "name": "stdout",
          "text": [
            "Drive already mounted at /content/drive; to attempt to forcibly remount, call drive.mount(\"/content/drive\", force_remount=True).\n"
          ]
        }
      ]
    },
    {
      "cell_type": "code",
      "source": [
        "table = tree.arrays()"
      ],
      "metadata": {
        "id": "d9kW2d22qd5i"
      },
      "execution_count": 17,
      "outputs": []
    },
    {
      "cell_type": "code",
      "source": [
        "# Construct a Lorentz 4-vector from the (px, py, pz, energy) arrays\n",
        "p4 = vector.zip({\"px\": table[\"part_px\"], \"py\": table[\"part_py\"], \"pz\": table[\"part_pz\"], \"energy\": table[\"part_energy\"]})"
      ],
      "metadata": {
        "id": "xu7jdSabrO_8"
      },
      "execution_count": 40,
      "outputs": []
    },
    {
      "cell_type": "code",
      "source": [
        "p4 # Each element consists of Lorentz vectors of particles."
      ],
      "metadata": {
        "colab": {
          "base_uri": "https://localhost:8080/",
          "height": 485
        },
        "id": "652KhFbtrkgA",
        "outputId": "7c0ce196-46b7-454e-c36f-f63f7420a498"
      },
      "execution_count": 93,
      "outputs": [
        {
          "output_type": "execute_result",
          "data": {
            "text/html": [
              "<pre>[[{x: -125, y: 64.3, z: -36.1, t: 145}, ..., {x: -1.14, y: 0.357, z: ..., ...}],\n",
              " [{x: 110, y: 219, z: -461, t: 522}, ..., {x: 0.225, y: 0.492, z: -1.78, ...}],\n",
              " [{x: 129, y: -63, z: 290, t: 324}, ..., {x: 0.616, y: -0.356, z: 2.65, ...}],\n",
              " [{x: 91.2, y: -128, z: 293, t: 332}, ..., {x: 0.698, y: -0.732, z: 1.74, ...}],\n",
              " [{x: -168, y: 159, z: 144, t: 273}, ..., {x: -0.473, y: 0.783, z: 1.26, ...}],\n",
              " [{x: 210, y: -96.6, z: -235, t: 330}, ..., {x: 0.738, y: -0.421, z: ..., ...}],\n",
              " [{x: 24.4, y: 63.8, z: -45.5, t: 82.1}, {...}, ..., {x: 0.747, y: 0.983, ...}],\n",
              " [{x: -53.2, y: 66, z: 8.46, t: 85.2}, ..., {x: -0.674, y: 0.8, z: 0.581, ...}],\n",
              " [{x: 47.9, y: -21.2, z: -72.6, t: 89.5}, ..., {x: 0.859, y: -0.155, ...}],\n",
              " [{x: -49.4, y: -274, z: -270, t: 388}, ..., {x: -0.983, y: -0.873, ...}],\n",
              " ...,\n",
              " [{x: -214, y: 72.9, z: -13.1, t: 226}, ..., {x: -1.43, y: 0.453, z: ..., ...}],\n",
              " [{x: 6.1, y: 155, z: 151, t: 217}, ..., {x: -0.0376, y: 1.08, z: 1.64, ...}],\n",
              " [{x: -70.7, y: -78, z: 327, t: 343}, ..., {x: -0.442, y: -0.684, z: ..., ...}],\n",
              " [{x: 11.6, y: -50.2, z: -30.8, t: 60}, ..., {x: 0.0368, y: -0.948, ...}],\n",
              " [{x: 76.4, y: -37.1, z: 88.4, t: 123}, ..., {x: 0.956, y: -0.29, z: ..., ...}],\n",
              " [{x: 88.9, y: -42.4, z: -26.6, t: 102}, ..., {x: 0.866, y: -0.388, ...}],\n",
              " [{x: 96.5, y: 125, z: -113, t: 194}, ..., {x: 1.23, y: 1.48, z: -0.614, ...}],\n",
              " [{x: -32.9, y: -82.3, z: -58.8, t: 106}, ..., {x: -0.396, y: -1.06, ...}],\n",
              " [{x: -122, y: -120, z: -161, t: 235}, {...}, ..., {x: -0.694, y: -0.602, ...}]]\n",
              "--------------------------------------------------------------------------------\n",
              "type: 100000 * var * Momentum4D[\n",
              "    x: float32,\n",
              "    y: float32,\n",
              "    z: float32,\n",
              "    t: float32\n",
              "]</pre>"
            ],
            "text/plain": [
              "<MomentumArray4D [[{x: -125, y: 64.3, ...}, ...], ...] type='100000 * var *...'>"
            ]
          },
          "metadata": {},
          "execution_count": 93
        }
      ]
    },
    {
      "cell_type": "code",
      "source": [
        "p4[0][0] # Accessing Lorentz vector of one of the particle"
      ],
      "metadata": {
        "colab": {
          "base_uri": "https://localhost:8080/",
          "height": 208
        },
        "id": "hAITO4NprmcW",
        "outputId": "46433f36-36ef-4d95-8fcd-139a7d787af4"
      },
      "execution_count": 92,
      "outputs": [
        {
          "output_type": "execute_result",
          "data": {
            "text/html": [
              "<pre>{x: -125,\n",
              " y: 64.3,\n",
              " z: -36.1,\n",
              " t: 145}\n",
              "-----------------\n",
              "type: Momentum4D[\n",
              "    x: float32,\n",
              "    y: float32,\n",
              "    z: float32,\n",
              "    t: float32\n",
              "]</pre>"
            ],
            "text/plain": [
              "<MomentumRecord4D {x: -125, y: 64.3, z: -36.1, ...} type='Momentum4D[x: flo...'>"
            ]
          },
          "metadata": {},
          "execution_count": 92
        }
      ]
    },
    {
      "cell_type": "code",
      "source": [
        "# Creating a list of Lorentz vectors of the particles\n",
        "N = 10\n",
        "particles = []\n",
        "for i in range(N) :\n",
        "  num_jet_part = table[\"jet_nparticles\"][i]\n",
        "  for j in range(int(num_jet_part)) :\n",
        "    particles.append(p4[i][j])"
      ],
      "metadata": {
        "id": "FmKrtUlHtsJg"
      },
      "execution_count": 90,
      "outputs": []
    },
    {
      "cell_type": "code",
      "source": [
        "particles[0] # This returns a Lorentz vector of the first particle in the list."
      ],
      "metadata": {
        "colab": {
          "base_uri": "https://localhost:8080/",
          "height": 208
        },
        "id": "8LADV2gPx56p",
        "outputId": "16ebf1b2-9779-460b-bd47-6ba3c72db44f"
      },
      "execution_count": 91,
      "outputs": [
        {
          "output_type": "execute_result",
          "data": {
            "text/html": [
              "<pre>{x: -125,\n",
              " y: 64.3,\n",
              " z: -36.1,\n",
              " t: 145}\n",
              "-----------------\n",
              "type: Momentum4D[\n",
              "    x: float32,\n",
              "    y: float32,\n",
              "    z: float32,\n",
              "    t: float32\n",
              "]</pre>"
            ],
            "text/plain": [
              "<MomentumRecord4D {x: -125, y: 64.3, z: -36.1, ...} type='Momentum4D[x: flo...'>"
            ]
          },
          "metadata": {},
          "execution_count": 91
        }
      ]
    },
    {
      "cell_type": "code",
      "source": [
        "num_jet_part = sum([table[\"jet_nparticles\"][i] for i in range(10)])\n",
        "num_jet_part # This returns total number of particles in the list."
      ],
      "metadata": {
        "colab": {
          "base_uri": "https://localhost:8080/",
          "height": 37
        },
        "id": "zo9PIr0GwEok",
        "outputId": "ec6345ff-a9cd-43f3-c34b-0d97218906e0"
      },
      "execution_count": 94,
      "outputs": [
        {
          "output_type": "execute_result",
          "data": {
            "text/plain": [
              "389.0"
            ],
            "text/latex": "$\\displaystyle 389.0$"
          },
          "metadata": {},
          "execution_count": 94
        }
      ]
    },
    {
      "cell_type": "code",
      "source": [
        "inp_data = ak.Array(particles, with_name = \"Momentum4D\")\n",
        "cluster = ClusterSequence(inp_data, jetdef)\n",
        "cluster.inclusive_jets() # This returns list a of jets, each specifying the 4-momentum of the jet. A total of 17 jets is obtained."
      ],
      "metadata": {
        "colab": {
          "base_uri": "https://localhost:8080/",
          "height": 433
        },
        "id": "vEwjhWmVwU6c",
        "outputId": "4e42a515-c412-42f3-b432-e73ed440ef6d"
      },
      "execution_count": 99,
      "outputs": [
        {
          "output_type": "execute_result",
          "data": {
            "text/html": [
              "<pre>[{px: 1.32, py: -0.946, pz: 1.57, E: 2.26},\n",
              " {px: -0.37, py: -1.67, pz: -0.375, E: 1.75},\n",
              " {px: -0.339, py: 2.45, pz: -0.64, E: 2.56},\n",
              " {px: 2.47, py: -1.26, pz: -6.09, E: 6.69},\n",
              " {px: -2.73, py: 0.493, pz: 4.01, E: 4.88},\n",
              " {px: -1.84, py: 3.29, pz: 5.3, E: 6.5},\n",
              " {px: 2.4, py: -3.04, pz: 15.4, E: 15.9},\n",
              " {px: -7.34, py: -18.7, pz: -41.9, E: 46.7},\n",
              " {px: -5.63, py: 31, pz: -42.4, E: 53},\n",
              " {px: 85, py: -23.2, pz: 334, E: 346},\n",
              " {px: 116, py: 306, pz: -216, E: 393},\n",
              " {px: -91.2, py: -639, pz: -617, E: 895},\n",
              " {px: 333, py: 615, pz: -1.18e+03, E: 1.38e+03},\n",
              " {px: -755, py: 313, pz: -270, E: 867},\n",
              " {px: -771, py: 916, pz: 567, E: 1.38e+03},\n",
              " {px: 890, py: -794, pz: 2.51e+03, E: 2.79e+03},\n",
              " {px: 1.41e+03, py: -459, pz: -1.53e+03, E: 2.14e+03}]\n",
              "------------------------------------------------------\n",
              "type: 17 * Momentum4D[\n",
              "    px: float64,\n",
              "    py: float64,\n",
              "    pz: float64,\n",
              "    E: float64\n",
              "]</pre>"
            ],
            "text/plain": [
              "<MomentumArray4D [{px: 1.32, py: -0.946, ...}, ...] type='17 * Momentum4D[p...'>"
            ]
          },
          "metadata": {},
          "execution_count": 99
        }
      ]
    },
    {
      "cell_type": "code",
      "source": [
        "cluster.constituents() # Constituents of each jet\n",
        "# The total number of constituents must be equal to the total number of particles."
      ],
      "metadata": {
        "colab": {
          "base_uri": "https://localhost:8080/",
          "height": 433
        },
        "id": "ycUd_BbjT1gG",
        "outputId": "bc9db093-7fdf-4e60-dc82-70ebb7146dc2"
      },
      "execution_count": 100,
      "outputs": [
        {
          "output_type": "execute_result",
          "data": {
            "text/html": [
              "<pre>[[{px: 1.32, py: -0.946, pz: 1.57, E: 2.26}],\n",
              " [{px: -0.37, py: -1.67, pz: -0.375, E: 1.75}],\n",
              " [{px: -0.339, py: 2.45, pz: -0.64, E: 2.56}],\n",
              " [{px: 1.49, py: -0.69, pz: -3.7, E: 4.05}, {px: 0.976, py: -0.571, ...}],\n",
              " [{px: -2.73, py: 0.493, pz: 4.01, E: 4.88}],\n",
              " [{px: -1.31, py: 2.45, pz: 3.84, E: 4.74}, {px: -0.523, py: 0.848, ...}],\n",
              " [{px: 2.4, py: -3.04, pz: 15.4, E: 15.9}],\n",
              " [{px: -3.25, py: -7.92, pz: -16.9, E: 19}, ..., {px: -0.983, py: -0.873, ...}],\n",
              " [{px: -0.924, py: 8.44, pz: -11.9, E: 14.6}, ..., {px: -0.189, py: ..., ...}],\n",
              " [{px: 23.1, py: -6.14, pz: 85.8, E: 89.1}, ..., {px: 0.771, py: -0.148, ...}],\n",
              " [{px: 24.4, py: 63.8, pz: -45.5, E: 82.1}, ..., {px: 1.1, py: 0.987, ...}],\n",
              " [{px: -49.4, py: -274, pz: -270, E: 388}, ..., {px: -0.58, py: -1.2, ...}],\n",
              " [{px: 110, py: 219, pz: -461, E: 522}, ..., {px: 0.747, py: 0.983, ...}],\n",
              " [{px: -125, py: 64.3, pz: -36.1, E: 145}, ..., {px: -1.37, py: 0.963, ...}],\n",
              " [{px: -168, py: 159, pz: 144, E: 273}, {...}, ..., {px: -0.674, py: 0.8, ...}],\n",
              " [{px: 129, py: -63, pz: 290, E: 324}, ..., {px: 0.698, py: -0.732, ...}],\n",
              " [{px: 210, py: -96.6, pz: -235, E: 330}, ..., {px: 0.859, py: -0.155, ...}]]\n",
              "--------------------------------------------------------------------------------\n",
              "type: 17 * var * Momentum4D[\n",
              "    px: float64,\n",
              "    py: float64,\n",
              "    pz: float64,\n",
              "    E: float64\n",
              "]</pre>"
            ],
            "text/plain": [
              "<MomentumArray4D [[{px: 1.32, py: -0.946, ...}], ...] type='17 * var * Mome...'>"
            ]
          },
          "metadata": {},
          "execution_count": 100
        }
      ]
    },
    {
      "cell_type": "code",
      "source": [
        "sum([len(cluster.constituents()[i]) for i in range(17)]) # The result is same as the total number of particles."
      ],
      "metadata": {
        "colab": {
          "base_uri": "https://localhost:8080/",
          "height": 37
        },
        "id": "TojzzdkzyuSz",
        "outputId": "b9f55fa5-8e05-4140-b43e-0dcfeefd0211"
      },
      "execution_count": 102,
      "outputs": [
        {
          "output_type": "execute_result",
          "data": {
            "text/plain": [
              "389"
            ],
            "text/latex": "$\\displaystyle 389$"
          },
          "metadata": {},
          "execution_count": 102
        }
      ]
    }
  ]
}